{
  "nbformat": 4,
  "nbformat_minor": 0,
  "metadata": {
    "colab": {
      "name": "mountain_car.ipynb",
      "provenance": [],
      "collapsed_sections": [],
      "toc_visible": true
    },
    "kernelspec": {
      "name": "python3",
      "display_name": "Python 3"
    },
    "accelerator": "GPU"
  },
  "cells": [
    {
      "cell_type": "markdown",
      "metadata": {
        "id": "7BavHd1tVBEZ"
      },
      "source": [
        "### Solution for https://gym.openai.com/envs/MountainCarContinuous-v0/"
      ]
    },
    {
      "cell_type": "code",
      "metadata": {
        "id": "6NH4JUvojgJ5"
      },
      "source": [
        "!apt-get install -y xvfb python-opengl > /dev/null 2>&1\n",
        "!pip install gym pyvirtualdisplay > /dev/null 2>&1\n",
        "\n",
        "import gym\n",
        "import numpy as np\n",
        "import matplotlib.pyplot as plt\n",
        "from IPython import display as ipythondisplay\n",
        "from pyvirtualdisplay import Display"
      ],
      "execution_count": 1,
      "outputs": []
    },
    {
      "cell_type": "code",
      "metadata": {
        "colab": {
          "base_uri": "https://localhost:8080/"
        },
        "id": "_JR1r0ExmguA",
        "outputId": "63bfd96f-a8e6-42c0-c359-e711cbe966f7"
      },
      "source": [
        "display = Display(visible=0, size=(400, 300))\n",
        "display.start()"
      ],
      "execution_count": 2,
      "outputs": [
        {
          "output_type": "execute_result",
          "data": {
            "text/plain": [
              "<pyvirtualdisplay.display.Display at 0x7f29e6f5fb50>"
            ]
          },
          "metadata": {
            "tags": []
          },
          "execution_count": 2
        }
      ]
    },
    {
      "cell_type": "code",
      "metadata": {
        "id": "FQZFS4o9BdZZ"
      },
      "source": [
        "import os\n",
        "from gym import wrappers\n",
        "from gym import envs\n",
        "\n",
        "\n",
        "from IPython import display\n",
        "\n",
        "\n",
        "import random\n",
        "import numpy as np\n",
        "from keras.models import Sequential\n",
        "from keras.layers import Dense\n",
        "from keras.optimizers import Adam"
      ],
      "execution_count": 3,
      "outputs": []
    },
    {
      "cell_type": "code",
      "metadata": {
        "id": "zKFEImqPBikL"
      },
      "source": [
        "env = gym.make('MountainCar-v0')\n",
        "env.reset()\n",
        "goal_steps = 200\n",
        "score_requirement = -198\n",
        "intial_games = 10000"
      ],
      "execution_count": 4,
      "outputs": []
    },
    {
      "cell_type": "code",
      "metadata": {
        "id": "QTrYpx_KSJpo"
      },
      "source": [
        "!mkdir dumbcar"
      ],
      "execution_count": 5,
      "outputs": []
    },
    {
      "cell_type": "code",
      "metadata": {
        "id": "3Z52zd9hBimz"
      },
      "source": [
        "def play_a_random_game_first():\n",
        "  img = plt.imshow(env.render('rgb_array')) \n",
        "  for step_index in range(goal_steps):\n",
        "    #env.render()\n",
        "    img.set_data(env.render('rgb_array')) # just update the data\n",
        "    display.display(plt.gcf())\n",
        "    display.clear_output(wait=True)\n",
        "    plt.savefig('/content/dumbcar/{}.png'.format(step_index))\n",
        "    action = env.action_space.sample()\n",
        "\n",
        "    observation, reward, done, info = env.step(action)\n",
        "    \n",
        "    print(\"Step {}:\".format(step_index))\n",
        "    print(\"action: {}\".format(action))\n",
        "    print(\"observation: {}\".format(observation))\n",
        "    print(\"reward: {}\".format(reward))\n",
        "    print(\"done: {}\".format(done))\n",
        "    print(\"info: {}\".format(info))\n",
        "    if done:\n",
        "        break\n",
        "    env.reset()"
      ],
      "execution_count": null,
      "outputs": []
    },
    {
      "cell_type": "code",
      "metadata": {
        "id": "gBhMStdOBipu"
      },
      "source": [
        "if it doesn't work restart runtime.\n",
        "play_a_random_game_first()"
      ],
      "execution_count": 7,
      "outputs": []
    },
    {
      "cell_type": "code",
      "metadata": {
        "id": "WIJFy0jVZIF4"
      },
      "source": [
        "from PIL import Image, ImageDraw\n",
        "images = []\n",
        "for i in os.listdir('/content/dumbcar/'):\n",
        "  img = Image.open('/content/dumbcar/' + i)\n",
        "  images.append(img)\n",
        "\n",
        "images[0].save('dumbcar.gif',save_all=True, append_images=images[1:], optimize=False, duration = 180)"
      ],
      "execution_count": null,
      "outputs": []
    },
    {
      "cell_type": "code",
      "metadata": {
        "id": "kk-6i6irBisk"
      },
      "source": [
        "def model_data_preparation():\n",
        "    training_data = []\n",
        "    accepted_scores = []\n",
        "    for game_index in range(intial_games):\n",
        "        score = 0\n",
        "        game_memory = []\n",
        "        previous_observation = []\n",
        "        for step_index in range(goal_steps):\n",
        "            action = random.randrange(0, 3)\n",
        "            observation, reward, done, info = env.step(action)\n",
        "            \n",
        "            if len(previous_observation) > 0:\n",
        "                game_memory.append([previous_observation, action])\n",
        "                \n",
        "            previous_observation = observation\n",
        "            if observation[0] > -0.2:\n",
        "                reward = 1\n",
        "            \n",
        "            score += reward\n",
        "            if done:\n",
        "                break\n",
        "            \n",
        "        if score >= score_requirement:\n",
        "            accepted_scores.append(score)\n",
        "            for data in game_memory:\n",
        "                if data[1] == 1:\n",
        "                    output = [0, 1, 0]\n",
        "                elif data[1] == 0:\n",
        "                    output = [1, 0, 0]\n",
        "                elif data[1] == 2:\n",
        "                    output = [0, 0, 1]\n",
        "                training_data.append([data[0], output])\n",
        "        \n",
        "        env.reset()\n",
        "    \n",
        "    print(accepted_scores)\n",
        "    \n",
        "    return training_data"
      ],
      "execution_count": 9,
      "outputs": []
    },
    {
      "cell_type": "code",
      "metadata": {
        "colab": {
          "base_uri": "https://localhost:8080/"
        },
        "id": "vzsSNNQcBivh",
        "outputId": "172f9cad-9d5d-459c-a361-12246f6d31eb"
      },
      "source": [
        "training_data = model_data_preparation()"
      ],
      "execution_count": 10,
      "outputs": [
        {
          "output_type": "stream",
          "text": [
            "[-188.0, -178.0, -198.0, -178.0, -190.0, -170.0, -190.0, -188.0, -166.0, -198.0, -166.0, -184.0, -176.0, -196.0, -180.0, -194.0, -178.0, -184.0, -192.0, -192.0, -196.0, -188.0, -190.0, -194.0, -178.0, -188.0, -180.0, -182.0, -198.0, -190.0, -180.0, -176.0, -188.0, -190.0, -190.0, -168.0]\n"
          ],
          "name": "stdout"
        }
      ]
    },
    {
      "cell_type": "code",
      "metadata": {
        "id": "cjfvGaY5BiyS"
      },
      "source": [
        "def build_model(input_size, output_size):\n",
        "        model = Sequential()\n",
        "        model.add(Dense(128, input_dim=input_size, activation='relu'))\n",
        "        model.add(Dense(52, activation='relu'))\n",
        "        model.add(Dense(output_size, activation='linear'))\n",
        "        model.compile(loss='mse', optimizer=Adam())\n",
        "\n",
        "        return model"
      ],
      "execution_count": 11,
      "outputs": []
    },
    {
      "cell_type": "code",
      "metadata": {
        "id": "0z_Z8dYIB55q"
      },
      "source": [
        "def train_model(training_data):\n",
        "    X = np.array([i[0] for i in training_data]).reshape(-1, len(training_data[0][0]))\n",
        "    y = np.array([i[1] for i in training_data]).reshape(-1, len(training_data[0][1]))\n",
        "    model = build_model(input_size=len(X[0]), output_size=len(y[0]))\n",
        "    \n",
        "    model.fit(X, y, epochs=5)\n",
        "    return model"
      ],
      "execution_count": 12,
      "outputs": []
    },
    {
      "cell_type": "code",
      "metadata": {
        "colab": {
          "base_uri": "https://localhost:8080/"
        },
        "id": "Mqu4vvCkB57y",
        "outputId": "317d3343-ed1c-4b71-f7d9-b20b8b81c048"
      },
      "source": [
        "trained_model = train_model(training_data)"
      ],
      "execution_count": 13,
      "outputs": [
        {
          "output_type": "stream",
          "text": [
            "Epoch 1/5\n",
            "224/224 [==============================] - 3s 2ms/step - loss: 0.2454\n",
            "Epoch 2/5\n",
            "224/224 [==============================] - 0s 2ms/step - loss: 0.2228\n",
            "Epoch 3/5\n",
            "224/224 [==============================] - 0s 2ms/step - loss: 0.2217\n",
            "Epoch 4/5\n",
            "224/224 [==============================] - 0s 2ms/step - loss: 0.2213\n",
            "Epoch 5/5\n",
            "224/224 [==============================] - 0s 2ms/step - loss: 0.2207\n"
          ],
          "name": "stdout"
        }
      ]
    },
    {
      "cell_type": "code",
      "metadata": {
        "id": "bq9Rbdz0X41b"
      },
      "source": [
        "!mkdir smartcar"
      ],
      "execution_count": 14,
      "outputs": []
    },
    {
      "cell_type": "markdown",
      "metadata": {
        "id": "oMOIPPcDcLrh"
      },
      "source": [
        "If the runtime is crashed comment the part where dumbcar folder and its gif is created, then factory reset and run all"
      ]
    },
    {
      "cell_type": "code",
      "metadata": {
        "id": "P1-yKZ1S7zOQ"
      },
      "source": [
        "scores = []\n",
        "choices = []\n",
        "c=0\n",
        "for each_game in range(100):\n",
        "  score = 0\n",
        "  game_memory = []\n",
        "  prev_obs = []\n",
        "  img = plt.imshow(env.render('rgb_array')) \n",
        "  for step_index in range(goal_steps):\n",
        "    \n",
        "    img.set_data(env.render('rgb_array')) # just update the data\n",
        "    display.display(plt.gcf())\n",
        "    plt.savefig('/content/smartcar/{}.png'.format(step_index)) \n",
        "    display.clear_output(wait=True)\n",
        "    #env.render()\n",
        "    if len(prev_obs)==0:\n",
        "        action = random.randrange(0,2)\n",
        "    else:\n",
        "        action = np.argmax(trained_model.predict(prev_obs.reshape(-1, len(prev_obs)))[0])\n",
        "    \n",
        "    choices.append(action)\n",
        "    new_observation, reward, done, info = env.step(action)\n",
        "    prev_obs = new_observation\n",
        "    game_memory.append([new_observation, action])\n",
        "    score += reward\n",
        "    print(step_index)\n",
        "    if done:\n",
        "      break\n",
        "  \n",
        "  env.reset()\n",
        "  scores.append(score)\n",
        "\n",
        "print(scores)\n",
        "print('Average Score:',sum(scores)/len(scores))\n",
        "print('choice 1:{}  choice 0:{} choice 2:{}'.format(choices.count(1)/len(choices),choices.count(0)/len(choices),choices.count(2)/len(choices)))"
      ],
      "execution_count": null,
      "outputs": []
    },
    {
      "cell_type": "code",
      "metadata": {
        "id": "8GuXNXHkYDBF"
      },
      "source": [
        "#Sometimes the order of files can be different.\n",
        "import os\n",
        "from PIL import Image\n",
        "images = []\n",
        "filelist = os.listdir('/content/smartcar/')\n",
        "filelist = sorted(filelist,key=lambda x: int(os.path.splitext(x)[0]))\n",
        "\n",
        "for file in filelist:\n",
        "  img = Image.open('/content/smartcar/' + file)\n",
        "  images.append(img)\n",
        "images[0].save('smartcar.gif',save_all=True, append_images=images[1:], optimize=False, loop = True,duration = 150)"
      ],
      "execution_count": 22,
      "outputs": []
    }
  ]
}