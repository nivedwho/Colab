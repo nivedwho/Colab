{
  "nbformat": 4,
  "nbformat_minor": 0,
  "metadata": {
    "colab": {
      "name": "CNNLayers.ipynb",
      "provenance": []
    },
    "kernelspec": {
      "name": "python3",
      "display_name": "Python 3"
    },
    "language_info": {
      "name": "python"
    }
  },
  "cells": [
    {
      "cell_type": "markdown",
      "metadata": {
        "id": "-DKBjGEzkRX8"
      },
      "source": [
        "## Load any Image"
      ]
    },
    {
      "cell_type": "code",
      "metadata": {
        "id": "Wi-p8AzlWc4Q",
        "colab": {
          "base_uri": "https://localhost:8080/",
          "height": 282
        },
        "outputId": "8f38b66e-067c-43a2-e9d0-ee5b55aa5e43"
      },
      "source": [
        "import matplotlib.pyplot as plt\n",
        "import cv2\n",
        "img = cv2.imread('flower.png')\n",
        "#To see changes happenging to the image array\n",
        "img = cv2.resize(img, (16,16))\n",
        "#Comment resize command to see images properly\n",
        "plt.imshow(img)"
      ],
      "execution_count": 27,
      "outputs": [
        {
          "output_type": "execute_result",
          "data": {
            "text/plain": [
              "<matplotlib.image.AxesImage at 0x7ff0b448a810>"
            ]
          },
          "metadata": {
            "tags": []
          },
          "execution_count": 27
        },
        {
          "output_type": "display_data",
          "data": {
            "image/png": "[encoded data removed]",
            "text/plain": [
              "<Figure size 432x288 with 1 Axes>"
            ]
          },
          "metadata": {
            "tags": [],
            "needs_background": "light"
          }
        }
      ]
    },
    {
      "cell_type": "markdown",
      "metadata": {
        "id": "MS-V576xkYB1"
      },
      "source": [
        "## Original Image shape\n"
      ]
    },
    {
      "cell_type": "code",
      "metadata": {
        "colab": {
          "base_uri": "https://localhost:8080/"
        },
        "id": "Gb4YMeeObKHB",
        "outputId": "16675dfa-39dc-42f0-a793-e2a005623437"
      },
      "source": [
        "img.shape"
      ],
      "execution_count": 28,
      "outputs": [
        {
          "output_type": "execute_result",
          "data": {
            "text/plain": [
              "(16, 16, 3)"
            ]
          },
          "metadata": {
            "tags": []
          },
          "execution_count": 28
        }
      ]
    },
    {
      "cell_type": "markdown",
      "metadata": {
        "id": "KekASsJ3kekC"
      },
      "source": [
        "## Display Image as an array"
      ]
    },
    {
      "cell_type": "code",
      "metadata": {
        "id": "EXzeUXINX7Dy"
      },
      "source": [
        "import numpy as np\n",
        "def disparray(img):\n",
        "  img_np = np.array(img)\n",
        "  print(img_np)  "
      ],
      "execution_count": 29,
      "outputs": []
    },
    {
      "cell_type": "code",
      "metadata": {
        "colab": {
          "base_uri": "https://localhost:8080/"
        },
        "id": "F_sWPuCzmbFX",
        "outputId": "0bfe7b3f-9487-4bff-f2bc-2106bb495747"
      },
      "source": [
        "disparray(img)"
      ],
      "execution_count": 30,
      "outputs": [
        {
          "output_type": "stream",
          "text": [
            "[[[  0   0   0]\n",
            "  [  0   0   0]\n",
            "  [  0   0   0]\n",
            "  [  0   0   0]\n",
            "  [  0   0   0]\n",
            "  [  0   0   0]\n",
            "  [  0   0   0]\n",
            "  [ 10  13  40]\n",
            "  [ 11  14  42]\n",
            "  [  0   0   0]\n",
            "  [  0   0   0]\n",
            "  [  0   0   0]\n",
            "  [  0   0   0]\n",
            "  [  0   0   0]\n",
            "  [  0   0   0]\n",
            "  [  0   0   0]]\n",
            "\n",
            " [[  0   0   0]\n",
            "  [  0   0   0]\n",
            "  [  0   0   0]\n",
            "  [  0   0   0]\n",
            "  [ 43  57 191]\n",
            "  [ 43  57 192]\n",
            "  [ 29  39 130]\n",
            "  [ 60  76 231]\n",
            "  [ 60  76 231]\n",
            "  [ 43  57 192]\n",
            "  [ 43  57 192]\n",
            "  [  0   0   0]\n",
            "  [  0   0   0]\n",
            "  [  0   0   0]\n",
            "  [  0   0   0]\n",
            "  [  0   0   0]]\n",
            "\n",
            " [[  0   0   0]\n",
            "  [  0   0   0]\n",
            "  [ 13  16  49]\n",
            "  [ 60  76 231]\n",
            "  [ 45  59 196]\n",
            "  [ 43  57 192]\n",
            "  [ 43  57 192]\n",
            "  [ 60  76 231]\n",
            "  [ 60  76 231]\n",
            "  [ 43  57 192]\n",
            "  [ 43  57 192]\n",
            "  [ 14  18  55]\n",
            "  [ 60  76 230]\n",
            "  [ 13  17  51]\n",
            "  [  0   0   0]\n",
            "  [  0   0   0]]\n",
            "\n",
            " [[  0   0   0]\n",
            "  [  0   0   0]\n",
            "  [ 30  38 116]\n",
            "  [ 60  76 231]\n",
            "  [ 60  76 231]\n",
            "  [ 46  60 198]\n",
            "  [ 43  57 192]\n",
            "  [ 60  76 231]\n",
            "  [ 60  76 231]\n",
            "  [ 43  57 192]\n",
            "  [ 46  60 198]\n",
            "  [ 60  76 231]\n",
            "  [ 60  76 231]\n",
            "  [ 38  48 147]\n",
            "  [  0   0   0]\n",
            "  [  0   0   0]]\n",
            "\n",
            " [[  0   0   0]\n",
            "  [ 28  37 126]\n",
            "  [ 40  52 176]\n",
            "  [ 60  76 231]\n",
            "  [ 60  76 231]\n",
            "  [ 60  76 231]\n",
            "  [ 43  57 192]\n",
            "  [ 60  76 231]\n",
            "  [ 60  76 231]\n",
            "  [ 43  57 192]\n",
            "  [ 60  76 231]\n",
            "  [ 60  76 231]\n",
            "  [ 60  76 231]\n",
            "  [ 43  57 192]\n",
            "  [ 32  43 144]\n",
            "  [  0   0   0]]\n",
            "\n",
            " [[  0   0   0]\n",
            "  [ 43  57 192]\n",
            "  [ 43  57 192]\n",
            "  [ 43  57 192]\n",
            "  [ 60  76 230]\n",
            "  [ 60  76 231]\n",
            "  [ 58  74 228]\n",
            "  [ 48  62 203]\n",
            "  [ 48  62 203]\n",
            "  [ 58  74 228]\n",
            "  [ 60  76 231]\n",
            "  [ 60  76 230]\n",
            "  [ 43  57 192]\n",
            "  [ 43  57 192]\n",
            "  [ 41  54 184]\n",
            "  [  0   0   0]]\n",
            "\n",
            " [[  0   0   0]\n",
            "  [ 30  40 135]\n",
            "  [ 43  57 192]\n",
            "  [ 43  57 192]\n",
            "  [ 43  57 192]\n",
            "  [ 54  70 218]\n",
            "  [ 43  57 192]\n",
            "  [ 43  59 193]\n",
            "  [ 43  59 193]\n",
            "  [ 43  57 192]\n",
            "  [ 54  70 219]\n",
            "  [ 43  57 192]\n",
            "  [ 43  57 192]\n",
            "  [ 34  44 147]\n",
            "  [  0   0   0]\n",
            "  [  0   0   0]]\n",
            "\n",
            " [[ 10  12  37]\n",
            "  [ 60  76 231]\n",
            "  [ 60  76 231]\n",
            "  [ 60  76 231]\n",
            "  [ 60  76 231]\n",
            "  [ 48  62 203]\n",
            "  [ 43  59 193]\n",
            "  [ 34 126 230]\n",
            "  [ 34 126 230]\n",
            "  [ 43  59 193]\n",
            "  [ 48  62 203]\n",
            "  [ 60  76 231]\n",
            "  [ 60  76 231]\n",
            "  [ 60  76 231]\n",
            "  [ 60  76 231]\n",
            "  [ 11  13  41]]\n",
            "\n",
            " [[  9  12  35]\n",
            "  [ 60  76 231]\n",
            "  [ 60  76 231]\n",
            "  [ 60  76 231]\n",
            "  [ 60  76 231]\n",
            "  [ 48  62 203]\n",
            "  [ 43  59 193]\n",
            "  [ 34 126 230]\n",
            "  [ 34 126 230]\n",
            "  [ 43  59 193]\n",
            "  [ 48  62 203]\n",
            "  [ 60  76 231]\n",
            "  [ 60  76 231]\n",
            "  [ 60  76 231]\n",
            "  [ 60  76 231]\n",
            "  [ 10  13  39]]\n",
            "\n",
            " [[  0   0   0]\n",
            "  [ 42  55 186]\n",
            "  [ 43  57 192]\n",
            "  [ 43  57 192]\n",
            "  [ 43  57 192]\n",
            "  [ 55  70 219]\n",
            "  [ 43  57 192]\n",
            "  [ 43  59 193]\n",
            "  [ 43  59 193]\n",
            "  [ 43  57 192]\n",
            "  [ 55  70 219]\n",
            "  [ 43  57 192]\n",
            "  [ 43  57 192]\n",
            "  [ 43  57 192]\n",
            "  [ 30  40 136]\n",
            "  [  0   0   0]]\n",
            "\n",
            " [[  0   0   0]\n",
            "  [ 43  57 192]\n",
            "  [ 43  57 192]\n",
            "  [ 43  57 192]\n",
            "  [ 60  76 230]\n",
            "  [ 60  76 231]\n",
            "  [ 58  74 228]\n",
            "  [ 48  62 203]\n",
            "  [ 48  62 203]\n",
            "  [ 58  74 228]\n",
            "  [ 60  76 231]\n",
            "  [ 60  76 230]\n",
            "  [ 43  57 192]\n",
            "  [ 43  57 192]\n",
            "  [ 41  54 183]\n",
            "  [  0   0   0]]\n",
            "\n",
            " [[  0   0   0]\n",
            "  [ 19  25  85]\n",
            "  [ 21  28  94]\n",
            "  [ 60  76 231]\n",
            "  [ 60  76 231]\n",
            "  [ 60  76 231]\n",
            "  [ 43  57 192]\n",
            "  [ 60  76 231]\n",
            "  [ 60  76 231]\n",
            "  [ 43  57 192]\n",
            "  [ 60  76 231]\n",
            "  [ 60  76 231]\n",
            "  [ 60  76 231]\n",
            "  [  0   0   0]\n",
            "  [  0   0   0]\n",
            "  [  0   0   0]]\n",
            "\n",
            " [[  0   0   0]\n",
            "  [  0   0   0]\n",
            "  [ 30  38 116]\n",
            "  [ 60  76 231]\n",
            "  [ 60  76 231]\n",
            "  [ 45  60 198]\n",
            "  [ 43  57 192]\n",
            "  [ 60  76 231]\n",
            "  [ 60  76 231]\n",
            "  [ 43  57 192]\n",
            "  [ 45  60 197]\n",
            "  [ 60  76 231]\n",
            "  [ 60  76 231]\n",
            "  [ 38  49 148]\n",
            "  [  0   0   0]\n",
            "  [  0   0   0]]\n",
            "\n",
            " [[  0   0   0]\n",
            "  [  0   0   0]\n",
            "  [ 12  15  45]\n",
            "  [ 58  73 222]\n",
            "  [ 41  54 180]\n",
            "  [ 43  57 192]\n",
            "  [ 43  57 192]\n",
            "  [ 60  76 231]\n",
            "  [ 60  76 231]\n",
            "  [ 43  57 192]\n",
            "  [ 43  57 192]\n",
            "  [ 31  40 128]\n",
            "  [ 58  73 222]\n",
            "  [ 12  16  48]\n",
            "  [  0   0   0]\n",
            "  [  0   0   0]]\n",
            "\n",
            " [[  0   0   0]\n",
            "  [  0   0   0]\n",
            "  [  0   0   0]\n",
            "  [  0   0   0]\n",
            "  [  8  10  35]\n",
            "  [ 43  57 191]\n",
            "  [  0   0   0]\n",
            "  [ 60  76 231]\n",
            "  [ 60  76 231]\n",
            "  [ 27  35 119]\n",
            "  [ 43  57 192]\n",
            "  [  0   0   0]\n",
            "  [  0   0   0]\n",
            "  [  0   0   0]\n",
            "  [  0   0   0]\n",
            "  [  0   0   0]]\n",
            "\n",
            " [[  0   0   0]\n",
            "  [  0   0   0]\n",
            "  [  0   0   0]\n",
            "  [  0   0   0]\n",
            "  [  0   0   0]\n",
            "  [  0   0   0]\n",
            "  [  0   0   0]\n",
            "  [  9  12  36]\n",
            "  [  9  12  35]\n",
            "  [  0   0   0]\n",
            "  [  0   0   0]\n",
            "  [  0   0   0]\n",
            "  [  0   0   0]\n",
            "  [  0   0   0]\n",
            "  [  0   0   0]\n",
            "  [  0   0   0]]]\n"
          ],
          "name": "stdout"
        }
      ]
    },
    {
      "cell_type": "markdown",
      "metadata": {
        "id": "SfNU0qqDk68C"
      },
      "source": [
        "## Display Image "
      ]
    },
    {
      "cell_type": "code",
      "metadata": {
        "id": "b6WZRDgaffBO"
      },
      "source": [
        "def visualize(model, img):\n",
        "    img_batch = np.expand_dims(img,axis=0)\n",
        "    conv_img = model.predict(img_batch)\n",
        "    conv_img = np.squeeze(conv_img, axis=0)\n",
        "    print(conv_img.shape)\n",
        "    plt.imshow(conv_img)"
      ],
      "execution_count": 31,
      "outputs": []
    },
    {
      "cell_type": "markdown",
      "metadata": {
        "id": "kPOtdFMNklXn"
      },
      "source": [
        "## Model with a single convolution layer"
      ]
    },
    {
      "cell_type": "code",
      "metadata": {
        "id": "GPUkNvU2Z_i2"
      },
      "source": [
        "from keras.layers import Convolution2D\n",
        "from keras.models import Sequential"
      ],
      "execution_count": 32,
      "outputs": []
    },
    {
      "cell_type": "code",
      "metadata": {
        "id": "UVW2k8PSZ_uq"
      },
      "source": [
        "model = Sequential()\n",
        "model.add(Convolution2D(3, 3, 3, input_shape = img.shape))"
      ],
      "execution_count": 33,
      "outputs": []
    },
    {
      "cell_type": "code",
      "metadata": {
        "id": "10G5fVU6bvrb"
      },
      "source": [
        "img_batch = np.expand_dims(img, axis=0)"
      ],
      "execution_count": 34,
      "outputs": []
    },
    {
      "cell_type": "code",
      "metadata": {
        "id": "nPUo8purZ_wf"
      },
      "source": [
        "conv_img = model.predict(img_batch)"
      ],
      "execution_count": 35,
      "outputs": []
    },
    {
      "cell_type": "code",
      "metadata": {
        "colab": {
          "base_uri": "https://localhost:8080/"
        },
        "id": "GxUGXYPih5ZV",
        "outputId": "bc97153f-e270-4746-e7f4-ecec8c1338cd"
      },
      "source": [
        "#Size is reduced\n",
        "conv_img.shape"
      ],
      "execution_count": 36,
      "outputs": [
        {
          "output_type": "execute_result",
          "data": {
            "text/plain": [
              "(1, 5, 5, 3)"
            ]
          },
          "metadata": {
            "tags": []
          },
          "execution_count": 36
        }
      ]
    },
    {
      "cell_type": "code",
      "metadata": {
        "colab": {
          "base_uri": "https://localhost:8080/"
        },
        "id": "wO3UXywmmW7N",
        "outputId": "2d0ee8e2-f4be-4d4c-e0d8-8e21714d48f2"
      },
      "source": [
        "disparray(conv_img)"
      ],
      "execution_count": 37,
      "outputs": [
        {
          "output_type": "stream",
          "text": [
            "[[[[  -9.447792   -13.548253   -14.680782 ]\n",
            "   [ -77.88959    103.07155      1.5931778]\n",
            "   [ -75.74158     71.68345    -19.485582 ]\n",
            "   [-108.089836    98.114136   -78.56833  ]\n",
            "   [ -92.57175     65.99515     29.986012 ]]\n",
            "\n",
            "  [[ -29.618448     1.4918556   16.223543 ]\n",
            "   [-119.33928     10.295479   104.77352  ]\n",
            "   [-107.38255      5.833146   125.51436  ]\n",
            "   [-126.811935    16.069872   110.16746  ]\n",
            "   [-109.27044     64.21241     21.972515 ]]\n",
            "\n",
            "  [[ -32.61749    -14.56731     46.589664 ]\n",
            "   [-136.60767     23.991806    97.99948  ]\n",
            "   [ -88.09475     45.92291     72.08388  ]\n",
            "   [-102.18345     -3.8434374  100.07592  ]\n",
            "   [-109.96065     81.19358     25.603992 ]]\n",
            "\n",
            "  [[  43.467216   -41.806507    93.52863  ]\n",
            "   [-128.83965     20.383644   105.88694  ]\n",
            "   [-128.20529      6.6838145   79.71479  ]\n",
            "   [-112.998        9.4668045   87.60894  ]\n",
            "   [ -23.110779    38.331017   135.685    ]]\n",
            "\n",
            "  [[   0.7747421  -24.790792    50.62999  ]\n",
            "   [  -6.6484804  -85.377335    92.75005  ]\n",
            "   [ -48.62821    -47.823856    88.62232  ]\n",
            "   [ -68.314415    25.965904   133.48296  ]\n",
            "   [ -26.956848   -16.43502     33.95352  ]]]]\n"
          ],
          "name": "stdout"
        }
      ]
    },
    {
      "cell_type": "code",
      "metadata": {
        "id": "yNMg5teHfnAv"
      },
      "source": [
        "#visualize(model, img)"
      ],
      "execution_count": 38,
      "outputs": []
    },
    {
      "cell_type": "markdown",
      "metadata": {
        "id": "W8W6Ui4XlFym"
      },
      "source": [
        "## Model with a convolution layer and ReLU Activation layer"
      ]
    },
    {
      "cell_type": "code",
      "metadata": {
        "id": "KqkigTr1hayJ"
      },
      "source": [
        "from keras.layers import Convolution2D, MaxPooling2D, Activation\n",
        "from keras.models import Sequential"
      ],
      "execution_count": 39,
      "outputs": []
    },
    {
      "cell_type": "code",
      "metadata": {
        "id": "xSu-6OcOha4p"
      },
      "source": [
        "model2 = Sequential()\n",
        "model2.add(Convolution2D(3, 3, 3, input_shape = img.shape))\n",
        "model2.add(Activation('relu'))"
      ],
      "execution_count": 40,
      "outputs": []
    },
    {
      "cell_type": "code",
      "metadata": {
        "colab": {
          "base_uri": "https://localhost:8080/"
        },
        "id": "m1tUclPcha-D",
        "outputId": "3e9094ef-42b2-4c7c-a4d5-637bc4293202"
      },
      "source": [
        "img_batch = np.expand_dims(img, axis=0)\n",
        "conv_img = model2.predict(img_batch)"
      ],
      "execution_count": 41,
      "outputs": [
        {
          "output_type": "stream",
          "text": [
            "WARNING:tensorflow:5 out of the last 5 calls to <function Model.make_predict_function.<locals>.predict_function at 0x7ff0b72ba7a0> triggered tf.function retracing. Tracing is expensive and the excessive number of tracings could be due to (1) creating @tf.function repeatedly in a loop, (2) passing tensors with different shapes, (3) passing Python objects instead of tensors. For (1), please define your @tf.function outside of the loop. For (2), @tf.function has experimental_relax_shapes=True option that relaxes argument shapes that can avoid unnecessary retracing. For (3), please refer to https://www.tensorflow.org/guide/function#controlling_retracing and https://www.tensorflow.org/api_docs/python/tf/function for  more details.\n"
          ],
          "name": "stdout"
        }
      ]
    },
    {
      "cell_type": "code",
      "metadata": {
        "colab": {
          "base_uri": "https://localhost:8080/"
        },
        "id": "lLPN3ce9hbAi",
        "outputId": "44f00c2f-9b50-4856-f306-f51123f02c02"
      },
      "source": [
        "conv_img.shape"
      ],
      "execution_count": 42,
      "outputs": [
        {
          "output_type": "execute_result",
          "data": {
            "text/plain": [
              "(1, 5, 5, 3)"
            ]
          },
          "metadata": {
            "tags": []
          },
          "execution_count": 42
        }
      ]
    },
    {
      "cell_type": "code",
      "metadata": {
        "colab": {
          "base_uri": "https://localhost:8080/"
        },
        "id": "qcm6SdZpmPO8",
        "outputId": "9333ebc5-fd8f-498a-ea29-658993c72808"
      },
      "source": [
        "#negative values -> 0\n",
        "disparray(conv_img)"
      ],
      "execution_count": 43,
      "outputs": [
        {
          "output_type": "stream",
          "text": [
            "[[[[  0.          0.          6.9262805]\n",
            "   [  0.         56.864105   59.725075 ]\n",
            "   [  0.        105.166306   14.165312 ]\n",
            "   [  0.         94.508064   11.704077 ]\n",
            "   [  0.          0.         76.15994  ]]\n",
            "\n",
            "  [[  0.        102.860085    4.00811  ]\n",
            "   [  0.        155.06204     5.4863033]\n",
            "   [  0.        142.68292    46.195755 ]\n",
            "   [  0.        151.59639    43.04027  ]\n",
            "   [  0.        107.26548     0.       ]]\n",
            "\n",
            "  [[  0.        145.21957    33.27815  ]\n",
            "   [  0.        156.05215    33.89499  ]\n",
            "   [  0.        153.76224     0.       ]\n",
            "   [  0.        127.03764    22.0692   ]\n",
            "   [  0.        118.23338     0.       ]]\n",
            "\n",
            "  [[ 29.748041   99.17896    45.3639   ]\n",
            "   [  0.        149.68712    40.916862 ]\n",
            "   [  0.        140.8189     14.289217 ]\n",
            "   [  0.        149.85208     9.135782 ]\n",
            "   [ 10.376072   76.89986    27.5346   ]]\n",
            "\n",
            "  [[ 28.651844   22.586315   17.330067 ]\n",
            "   [ 66.52199   137.67633     0.       ]\n",
            "   [ 10.897098  194.49252     0.       ]\n",
            "   [ 38.35496   158.89136     0.       ]\n",
            "   [ 57.04545    61.70034     0.       ]]]]\n"
          ],
          "name": "stdout"
        }
      ]
    },
    {
      "cell_type": "code",
      "metadata": {
        "id": "YMb126HulTSQ"
      },
      "source": [
        "#visualize(model, img)"
      ],
      "execution_count": 44,
      "outputs": []
    },
    {
      "cell_type": "markdown",
      "metadata": {
        "id": "f_KekOIeoh8L"
      },
      "source": [
        "## Model with multiple convolution layer and ReLU Activation layers"
      ]
    },
    {
      "cell_type": "code",
      "metadata": {
        "id": "W7sOMj_QoVQh"
      },
      "source": [
        "from keras.layers import Convolution2D, Activation\n",
        "from keras.models import Sequential"
      ],
      "execution_count": 45,
      "outputs": []
    },
    {
      "cell_type": "code",
      "metadata": {
        "id": "haEGYECboVVg"
      },
      "source": [
        "model3 = Sequential()\n",
        "model3.add(Convolution2D(3, 3, 3, input_shape = img.shape))\n",
        "model3.add(Activation('relu'))\n",
        "\n",
        "model3.add(Convolution2D(3, 3, 3, input_shape = img.shape))\n",
        "model3.add(Activation('relu'))"
      ],
      "execution_count": 46,
      "outputs": []
    },
    {
      "cell_type": "code",
      "metadata": {
        "colab": {
          "base_uri": "https://localhost:8080/"
        },
        "id": "sb5TFd73oVaO",
        "outputId": "75c78e5e-8375-40a9-dee0-58a53347cf3e"
      },
      "source": [
        "img_batch = np.expand_dims(img, axis=0)\n",
        "conv_img = model3.predict(img_batch)"
      ],
      "execution_count": 47,
      "outputs": [
        {
          "output_type": "stream",
          "text": [
            "WARNING:tensorflow:6 out of the last 6 calls to <function Model.make_predict_function.<locals>.predict_function at 0x7ff0b44bf710> triggered tf.function retracing. Tracing is expensive and the excessive number of tracings could be due to (1) creating @tf.function repeatedly in a loop, (2) passing tensors with different shapes, (3) passing Python objects instead of tensors. For (1), please define your @tf.function outside of the loop. For (2), @tf.function has experimental_relax_shapes=True option that relaxes argument shapes that can avoid unnecessary retracing. For (3), please refer to https://www.tensorflow.org/guide/function#controlling_retracing and https://www.tensorflow.org/api_docs/python/tf/function for  more details.\n"
          ],
          "name": "stdout"
        }
      ]
    },
    {
      "cell_type": "code",
      "metadata": {
        "colab": {
          "base_uri": "https://localhost:8080/"
        },
        "id": "eJMhUXaZoVeU",
        "outputId": "aff78b45-af05-49d3-8f97-3f477c2c2d10"
      },
      "source": [
        "conv_img.shape"
      ],
      "execution_count": 48,
      "outputs": [
        {
          "output_type": "execute_result",
          "data": {
            "text/plain": [
              "(1, 1, 1, 3)"
            ]
          },
          "metadata": {
            "tags": []
          },
          "execution_count": 48
        }
      ]
    },
    {
      "cell_type": "code",
      "metadata": {
        "colab": {
          "base_uri": "https://localhost:8080/"
        },
        "id": "ZKKQcxkHoVhZ",
        "outputId": "f3b4447a-afe3-437d-d355-661952566050"
      },
      "source": [
        "#negative values -> 0\n",
        "disparray(conv_img)"
      ],
      "execution_count": 49,
      "outputs": [
        {
          "output_type": "stream",
          "text": [
            "[[[[36.100174  0.        0.      ]]]]\n"
          ],
          "name": "stdout"
        }
      ]
    },
    {
      "cell_type": "code",
      "metadata": {
        "id": "2f763r0DoVju"
      },
      "source": [
        "#visualize(model, img)"
      ],
      "execution_count": 50,
      "outputs": []
    },
    {
      "cell_type": "markdown",
      "metadata": {
        "id": "Kw_diAOD5r0_"
      },
      "source": [
        "## Convolution layer + ReLU Activation layer + Pooling Layer"
      ]
    },
    {
      "cell_type": "code",
      "metadata": {
        "id": "p6n3FaJU5pqa"
      },
      "source": [
        "from keras.layers import Convolution2D, MaxPooling2D, Activation\n",
        "from keras.models import Sequential"
      ],
      "execution_count": 51,
      "outputs": []
    },
    {
      "cell_type": "code",
      "metadata": {
        "id": "q32UVabv5ptd"
      },
      "source": [
        "model4 = Sequential()\n",
        "model4.add(Convolution2D(3, 3, 3, input_shape = img.shape))\n",
        "model4.add(Activation('relu'))\n",
        "model4.add(MaxPooling2D(pool_size=(5,5)))"
      ],
      "execution_count": 52,
      "outputs": []
    },
    {
      "cell_type": "code",
      "metadata": {
        "colab": {
          "base_uri": "https://localhost:8080/"
        },
        "id": "HzNSuTws5pwK",
        "outputId": "198a1c77-4512-4e8f-c0c6-e5c508866078"
      },
      "source": [
        "img_batch = np.expand_dims(img, axis=0)\n",
        "conv_img = model4.predict(img_batch)multiple"
      ],
      "execution_count": 53,
      "outputs": [
        {
          "output_type": "stream",
          "text": [
            "WARNING:tensorflow:7 out of the last 7 calls to <function Model.make_predict_function.<locals>.predict_function at 0x7ff0b2b670e0> triggered tf.function retracing. Tracing is expensive and the excessive number of tracings could be due to (1) creating @tf.function repeatedly in a loop, (2) passing tensors with different shapes, (3) passing Python objects instead of tensors. For (1), please define your @tf.function outside of the loop. For (2), @tf.function has experimental_relax_shapes=True option that relaxes argument shapes that can avoid unnecessary retracing. For (3), please refer to https://www.tensorflow.org/guide/function#controlling_retracing and https://www.tensorflow.org/api_docs/python/tf/function for  more details.\n"
          ],
          "name": "stdout"
        }
      ]
    },
    {
      "cell_type": "code",
      "metadata": {
        "colab": {
          "base_uri": "https://localhost:8080/"
        },
        "id": "iA6hISdz5qfB",
        "outputId": "d35954d6-3a6e-4584-9030-01d4ca161a81"
      },
      "source": [
        "conv_img.shape"
      ],
      "execution_count": 54,
      "outputs": [
        {
          "output_type": "execute_result",
          "data": {
            "text/plain": [
              "(1, 1, 1, 3)"
            ]
          },
          "metadata": {
            "tags": []
          },
          "execution_count": 54
        }
      ]
    },
    {
      "cell_type": "code",
      "metadata": {
        "colab": {
          "base_uri": "https://localhost:8080/"
        },
        "id": "yIjieTL36K2x",
        "outputId": "274ae71d-8d66-4e43-fe0b-f22491696273"
      },
      "source": [
        "#pooling - max/avg values are taken to keep the most significant features\n",
        "disparray(conv_img)"
      ],
      "execution_count": 55,
      "outputs": [
        {
          "output_type": "stream",
          "text": [
            "[[[[ 49.327118   0.       120.32782 ]]]]\n"
          ],
          "name": "stdout"
        }
      ]
    }
  ]
}