{
  "nbformat": 4,
  "nbformat_minor": 0,
  "metadata": {
    "colab": {
      "name": "StyleGAN-pretrained.ipynb",
      "provenance": []
    },
    "kernelspec": {
      "name": "python3",
      "display_name": "Python 3"
    },
    "accelerator": "GPU"
  },
  "cells": [
    {
      "cell_type": "markdown",
      "metadata": {
        "id": "l8VMkO2Rd3W-"
      },
      "source": [
        "### Running StyleGAN-2 Model by importing pretrained weights\n",
        "Need tesnsorflow v1, GPU and a lot of free space in Google Drive"
      ]
    },
    {
      "cell_type": "code",
      "metadata": {
        "id": "ptI54dNndz1m"
      },
      "source": [
        "%tensorflow_version 1.x"
      ],
      "execution_count": null,
      "outputs": []
    },
    {
      "cell_type": "code",
      "metadata": {
        "colab": {
          "base_uri": "https://localhost:8080/"
        },
        "id": "ytqcGKC5M9Fn",
        "outputId": "6d07acdf-bfb8-4a66-98ef-3016ce600b18"
      },
      "source": [
        "from google.colab import drive\n",
        "drive.mount('/content/drive', force_remount=True)"
      ],
      "execution_count": null,
      "outputs": [
        {
          "output_type": "stream",
          "text": [
            "Mounted at /content/drive\n"
          ],
          "name": "stdout"
        }
      ]
    },
    {
      "cell_type": "code",
      "metadata": {
        "id": "2wB97IlGNS01"
      },
      "source": [
        "%cd /content/drive/MyDrive\n",
        "!git clone https://github.com/NVlabs/stylegan.git\n",
        "%cd stylegan"
      ],
      "execution_count": null,
      "outputs": []
    },
    {
      "cell_type": "code",
      "metadata": {
        "id": "3hp_NMYqNS3O"
      },
      "source": [
        "import os\n",
        "import pickle\n",
        "import numpy as np\n",
        "import PIL.Image\n",
        "import dnnlib\n",
        "import dnnlib.tflib as tflib\n",
        "import config\n",
        " \n",
        "def main():\n",
        "    # Initialize TensorFlow.\n",
        "    tflib.init_tf()\n",
        " \n",
        "    # Load pre-trained network.\n",
        "    url = 'https://drive.google.com/uc?id=1MEGjdvVpUsu1jB4zrXZN7Y4kBBOzizDQ' # The link can be found in the official repo\n",
        "    with dnnlib.util.open_url(url, cache_dir=config.cache_dir) as f:\n",
        "        _G, _D, Gs = pickle.load(f)\n",
        "        # _G = Instantaneous snapshot of the generator. Mainly useful for resuming a previous training run.\n",
        "        # _D = Instantaneous snapshot of the discriminator. Mainly useful for resuming a previous training run.\n",
        "        # Gs = Long-term average of the generator. Yields higher-quality results than the instantaneous snapshot.\n",
        " \n",
        "    # Print network details.\n",
        "    Gs.print_layers()\n",
        " \n",
        "    # Pick latent vector.\n",
        "    rnd = np.random.RandomState(10)  # seed = 10\n",
        "    latents0 = rnd.randn(1, Gs.input_shape[1])\n",
        "    latents1 = rnd.randn(1, Gs.input_shape[1])\n",
        "    latents2 = rnd.randn(1, Gs.input_shape[1])\n",
        "    latents3 = rnd.randn(1, Gs.input_shape[1])\n",
        "    latents4 = rnd.randn(1, Gs.input_shape[1])\n",
        "    latents5 = rnd.randn(1, Gs.input_shape[1])\n",
        "    latents6 = rnd.randn(1, Gs.input_shape[1])\n",
        "    \n",
        "    num_split = 39  \n",
        "    for i in range(40):\n",
        "        latents = latents6+(latents0-latents6)*i/num_split\n",
        "        # Generate image.\n",
        "        fmt = dict(func=tflib.convert_images_to_uint8, nchw_to_nhwc=True)\n",
        "        images = Gs.run(latents, None, truncation_psi=0.7, randomize_noise=True, output_transform=fmt)\n",
        " \n",
        "        # Save image.\n",
        "        os.makedirs(config.result_dir, exist_ok=True)\n",
        "        png_filename = os.path.join(config.result_dir, 'photo'+'{0:04d}'.format(i)+'.png')\n",
        "        PIL.Image.fromarray(images[0], 'RGB').save(png_filename)\n",
        " \n",
        "if __name__ == \"__main__\":\n",
        "    main()"
      ],
      "execution_count": null,
      "outputs": []
    },
    {
      "cell_type": "code",
      "metadata": {
        "id": "KikcwdBvNS5_"
      },
      "source": [
        "from PIL import Image\n",
        "import glob\n",
        " \n",
        "files = sorted(glob.glob('results/*.png'))\n",
        "images = list(map(lambda file: Image.open(file), files))\n",
        "images[0].save('stylegan.gif', save_all=True, \n",
        "               append_images=images[1:], \n",
        "               duration=200, loop=0)"
      ],
      "execution_count": null,
      "outputs": []
    }
  ]
}