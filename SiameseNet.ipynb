{
  "nbformat": 4,
  "nbformat_minor": 0,
  "metadata": {
    "kernelspec": {
      "language": "python",
      "display_name": "Python 3",
      "name": "python3"
    },
    "language_info": {
      "name": "python",
      "version": "3.6.6",
      "mimetype": "text/x-python",
      "codemirror_mode": {
        "name": "ipython",
        "version": 3
      },
      "pygments_lexer": "ipython3",
      "nbconvert_exporter": "python",
      "file_extension": ".py"
    },
    "colab": {
      "name": "SiameseNet.ipynb",
      "provenance": [],
      "include_colab_link": true
    }
  },
  "cells": [
    {
      "cell_type": "markdown",
      "metadata": {
        "id": "view-in-github",
        "colab_type": "text"
      },
      "source": [
        "<a href=\"https://colab.research.google.com/github/supertramp2/Colab/blob/main/SiameseNet.ipynb\" target=\"_parent\"><img src=\"https://colab.research.google.com/assets/colab-badge.svg\" alt=\"Open In Colab\"/></a>"
      ]
    },
    {
      "cell_type": "code",
      "metadata": {
        "trusted": true,
        "id": "A6orJ8k96akA",
        "outputId": "0583f828-cf92-4e92-ce33-e26affbdaea8"
      },
      "source": [
        "import re\n",
        "import numpy as np\n",
        "from PIL import Image, ImageOps\n",
        "\n",
        "from sklearn.model_selection import train_test_split\n",
        "from keras import backend as K\n",
        "from keras.layers import Activation\n",
        "from keras.layers import Input, Lambda, Dense, Dropout, Convolution2D, MaxPooling2D, Flatten\n",
        "from keras.models import Sequential, Model\n",
        "from keras.optimizers import RMSprop\n",
        "from keras import optimizers\n",
        "\n",
        "import matplotlib.image as mpimg \n",
        "import matplotlib.pyplot as plt \n",
        "\n",
        "from keras import callbacks\n",
        "from keras.callbacks import ModelCheckpoint, LearningRateScheduler, EarlyStopping, ReduceLROnPlateau, TensorBoard\n",
        "import os\n",
        "from keras.models import Model,load_model\n",
        "import json\n",
        "from keras.models import model_from_json, load_model\n",
        "from keras.layers import Dense, Dropout, Flatten, Conv2D, MaxPool2D, BatchNormalization\n",
        "import warnings\n",
        "warnings.filterwarnings('ignore')"
      ],
      "execution_count": null,
      "outputs": [
        {
          "output_type": "stream",
          "text": [
            "Using TensorFlow backend.\n"
          ],
          "name": "stderr"
        }
      ]
    },
    {
      "cell_type": "code",
      "metadata": {
        "trusted": true,
        "id": "IoEuDMv76akC",
        "outputId": "6c280eae-c427-4179-ce0c-b61704b6c46f"
      },
      "source": [
        "selected_image_size = 125\n",
        "resize = True\n",
        "total_sample_size = 10000 # 5k-50k\n",
        "\n",
        "channel = 1\n",
        "size = 2\n",
        "\n",
        "folder_count = 38\n",
        "image_count = 20 #0-50\n",
        "\n",
        "if resize == True:\n",
        "    batch_size=256\n",
        "else:\n",
        "    batch_size=64\n",
        "\n",
        "path =  os.path.join('../input/cell-images-for-detecting-malaria/cell_images/')\n",
        "print(path)"
      ],
      "execution_count": null,
      "outputs": [
        {
          "output_type": "stream",
          "text": [
            "../input/cell-images-for-detecting-malaria/cell_images/\n"
          ],
          "name": "stdout"
        }
      ]
    },
    {
      "cell_type": "markdown",
      "metadata": {
        "id": "_XBBiIx66akC"
      },
      "source": [
        "Now, we define a function for reading our input image. The function read_image takes input as an image and returns the numpy array.\n",
        "These feat_vecs_a and feat_vecs_b are the feature vectors of our image pair. Next, we feed this feature vectors to the energy function to compute the distance between them, we use Euclidean distance as our energy function. Next, we define our loss function as contrastive_loss function and compile the model."
      ]
    },
    {
      "cell_type": "code",
      "metadata": {
        "trusted": true,
        "id": "-_-Cd-Ay6akD"
      },
      "source": [
        "def read_image(filename, byteorder='>'):\n",
        "    \n",
        "    #first we read the image, as a raw file to the buffer\n",
        "    with open(filename, 'rb') as f:\n",
        "        buffer = f.read()\n",
        "    \n",
        "    #using regex, we extract the header, width, height and maxval of the image\n",
        "    header, width, height, maxval = re.search(\n",
        "        b\"(^P5\\s(?:\\s*#.*[\\r\\n])*\"\n",
        "        b\"(\\d+)\\s(?:\\s*#.*[\\r\\n])*\"\n",
        "        b\"(\\d+)\\s(?:\\s*#.*[\\r\\n])*\"\n",
        "        b\"(\\d+)\\s(?:\\s*#.*[\\r\\n]\\s)*)\", buffer).groups()\n",
        "    \n",
        "    #then we convert the image to numpy array using np.frombuffer which interprets buffer as one dimensional array\n",
        "    return np.frombuffer(buffer,\n",
        "                            dtype='u1' if int(maxval) < 256 else byteorder+'u2',\n",
        "                            count=int(width)*int(height),\n",
        "                            offset=len(header)\n",
        "                            ).reshape((int(height), int(width)))\n",
        "\n",
        "\n",
        "def euclidean_distance(vects):\n",
        "    x, y = vects\n",
        "    return K.sqrt(K.sum(K.square(x - y), axis=1, keepdims=True))\n",
        "\n",
        "\n",
        "def eucl_dist_output_shape(shapes):\n",
        "    shape1, shape2 = shapes\n",
        "    return (shape1[0], 1)\n",
        "\n",
        "def contrastive_loss(y_true, y_pred):\n",
        "    margin = 1\n",
        "    return K.mean(y_true * K.square(y_pred) + (1 - y_true) * K.square(K.maximum(margin - y_pred, 0)))\n",
        "\n",
        "def compute_accuracy(predictions, labels):\n",
        "    '''Compute classification accuracy with a fixed threshold on distances.\n",
        "    '''\n",
        "    return labels[predictions.ravel() < 0.5].mean()\n",
        "\n",
        "def accuracy(y_true, y_pred):\n",
        "    '''Compute classification accuracy with a fixed threshold on distances.\n",
        "    '''\n",
        "    return K.mean(K.equal(y_true, K.cast(y_pred < 0.5, y_true.dtype)))"
      ],
      "execution_count": null,
      "outputs": []
    },
    {
      "cell_type": "code",
      "metadata": {
        "trusted": true,
        "id": "Qw-zK87d6akG",
        "outputId": "9438dc97-f746-49d9-c68b-2b82a902d944"
      },
      "source": [
        "image = mpimg.imread(path+'Parasitized/C100P61ThinF_IMG_20150918_144104_cell_162.png')\n",
        "dim1 = image.shape[0]\n",
        "print('dim1',dim1)\n",
        "dim2 = image.shape[1]\n",
        "print('dim2',dim2)"
      ],
      "execution_count": null,
      "outputs": [
        {
          "output_type": "stream",
          "text": [
            "dim1 148\n",
            "dim2 142\n"
          ],
          "name": "stdout"
        }
      ]
    },
    {
      "cell_type": "code",
      "metadata": {
        "trusted": true,
        "id": "4bbnVJ7F6akH",
        "outputId": "da64bf69-e5eb-4bb1-ae62-ed08e69f74b1"
      },
      "source": [
        "image.shape"
      ],
      "execution_count": null,
      "outputs": [
        {
          "output_type": "execute_result",
          "data": {
            "text/plain": [
              "(148, 142, 3)"
            ]
          },
          "metadata": {
            "tags": []
          },
          "execution_count": 5
        }
      ]
    },
    {
      "cell_type": "code",
      "metadata": {
        "trusted": true,
        "id": "fwXzDJnS6akI",
        "outputId": "788d4347-34b1-4473-d776-6936b1e2b8ca"
      },
      "source": [
        "image = mpimg.imread(path+'Parasitized/C100P61ThinF_IMG_20150918_144104_cell_162.png')\n",
        "image.shape"
      ],
      "execution_count": null,
      "outputs": [
        {
          "output_type": "execute_result",
          "data": {
            "text/plain": [
              "(148, 142, 3)"
            ]
          },
          "metadata": {
            "tags": []
          },
          "execution_count": 6
        }
      ]
    },
    {
      "cell_type": "code",
      "metadata": {
        "trusted": true,
        "id": "nPAlleHy6akJ"
      },
      "source": [
        "def get_data():\n",
        "\n",
        "    count = 0\n",
        "\n",
        "    #initialize the numpy array with the shape of [total_sample, no_of_pairs, dim1, dim2]\n",
        "    \n",
        "    x_geuine_pair = np.zeros([13780, 2, 3, 64, 64])\n",
        "    y_genuine = np.zeros([13780,1])\n",
        "    l = ['../input/cell-images-for-detecting-malaria/cell_images/Parasitized/', '../input/cell-images-for-detecting-malaria/cell_images/Uninfected/']\n",
        "    \n",
        "    for i in range(2):\n",
        "        p = os.listdir(l[i])\n",
        "        for j in range(0,13779,2):\n",
        "            if p[j] != 'Thumbs.db'and p[j+1] != 'Thumbs.db':\n",
        "                img1 = Image.open(l[i] + p[j])\n",
        "                img1 = img1.resize([64,64])\n",
        "                img1 = np.array(img1)\n",
        "\n",
        "                img2 = Image.open(l[i] + p[j+1])\n",
        "                img2 = img2.resize([64,64])\n",
        "                img2 = np.array(img2)\n",
        "                x_geuine_pair[count, 0, :, :, :] = img1.transpose()\n",
        "                x_geuine_pair[count, 1, :, :, :] = img2.transpose()\n",
        "                y_genuine[count] = 1\n",
        "                count += 1\n",
        "        \n",
        "    count = 0\n",
        "    \n",
        "    x_imposite_pair = np.zeros([13780, 2, 3, 64, 64])\n",
        "    y_imposite = np.zeros([13780, 1])\n",
        "    \n",
        "    p = os.listdir('../input/cell-images-for-detecting-malaria/cell_images/Parasitized/')\n",
        "    u = os.listdir('../input/cell-images-for-detecting-malaria/cell_images/Uninfected/')\n",
        "\n",
        "    for j in range(13780):\n",
        "        if p[j] != 'Thumbs.db' and u[j] != 'Thumbs.db':\n",
        "            img1 = Image.open(l[0] + p[j])\n",
        "            img1 = img1.resize([64,64])\n",
        "            img1 = ImageOps.grayscale(img1)\n",
        "            img1 = np.array(img1)\n",
        "\n",
        "            img2 = Image.open(l[1] + u[j])\n",
        "            img2 = img2.resize([64,64])\n",
        "            img2 = ImageOps.grayscale(img2)\n",
        "            img2 = np.array(img2)\n",
        "\n",
        "            x_imposite_pair[count, 0, :, :, :] = img1.transpose()\n",
        "            x_imposite_pair[count, 1, :, :, :] = img2.transpose()\n",
        "\n",
        "            y_imposite[count] = 0\n",
        "            count += 1\n",
        "        \n",
        "    X = np.concatenate([x_geuine_pair, x_imposite_pair], axis=0)/255\n",
        "    Y = np.concatenate([y_genuine, y_imposite], axis=0)\n",
        "\n",
        "    return X, Y\n",
        "\n",
        "X, Y = get_data()"
      ],
      "execution_count": null,
      "outputs": []
    },
    {
      "cell_type": "code",
      "metadata": {
        "trusted": true,
        "id": "QoRQ1ayF6akK",
        "outputId": "7fa0374f-502e-4545-b90e-47b9c88412b7"
      },
      "source": [
        "X.shape"
      ],
      "execution_count": null,
      "outputs": [
        {
          "output_type": "execute_result",
          "data": {
            "text/plain": [
              "(27560, 2, 3, 64, 64)"
            ]
          },
          "metadata": {
            "tags": []
          },
          "execution_count": 8
        }
      ]
    },
    {
      "cell_type": "code",
      "metadata": {
        "trusted": true,
        "id": "hvfnEM_j6akL",
        "outputId": "68ed90ea-db63-454f-c26a-308b8a7238f8"
      },
      "source": [
        "Y.shape"
      ],
      "execution_count": null,
      "outputs": [
        {
          "output_type": "execute_result",
          "data": {
            "text/plain": [
              "(27560, 1)"
            ]
          },
          "metadata": {
            "tags": []
          },
          "execution_count": 9
        }
      ]
    },
    {
      "cell_type": "code",
      "metadata": {
        "trusted": true,
        "id": "HvDPRVbm6akL",
        "outputId": "80681a51-3898-4dad-afb6-9aaaf6df11db"
      },
      "source": [
        "import seaborn as sns\n",
        "import matplotlib.pyplot as plt\n",
        "plt.figure(figsize=(10,5))\n",
        "sns.countplot(Y[:,0])\n",
        "plt.show()"
      ],
      "execution_count": null,
      "outputs": [
        {
          "output_type": "display_data",
          "data": {
            "text/plain": [
              "<Figure size 720x360 with 1 Axes>"
            ],
            "image/png": "[encoded data removed]"
          },
          "metadata": {
            "tags": [],
            "needs_background": "light"
          }
        }
      ]
    },
    {
      "cell_type": "code",
      "metadata": {
        "trusted": true,
        "id": "EoJArMo_6akM"
      },
      "source": [
        "x_train, x_test, y_train, y_test = train_test_split(X, Y, test_size=.15)"
      ],
      "execution_count": null,
      "outputs": []
    },
    {
      "cell_type": "code",
      "metadata": {
        "trusted": true,
        "id": "WOmcMpD66akM",
        "outputId": "5df52e3c-e2a4-404a-9160-ee62fea989bc"
      },
      "source": [
        "print('x_train',x_train.shape)\n",
        "print('x_test',x_test.shape)\n",
        "print('y_train',y_train.shape)\n",
        "print('y_test',y_test.shape)"
      ],
      "execution_count": null,
      "outputs": [
        {
          "output_type": "stream",
          "text": [
            "x_train (23426, 2, 3, 64, 64)\n",
            "x_test (4134, 2, 3, 64, 64)\n",
            "y_train (23426, 1)\n",
            "y_test (4134, 1)\n"
          ],
          "name": "stdout"
        }
      ]
    },
    {
      "cell_type": "code",
      "metadata": {
        "trusted": true,
        "id": "4MWKqoCR6akN"
      },
      "source": [
        "def build_base_network(input_shape):\n",
        "    \n",
        "    seq = Sequential()\n",
        "    \n",
        "    nb_filter = [16, 32, 16]\n",
        "    kernel_size = 3\n",
        "    \n",
        "    \n",
        "    #convolutional layer 1\n",
        "    seq.add(Convolution2D(nb_filter[0], kernel_size, kernel_size, input_shape=input_shape,border_mode='valid', dim_ordering='th'))\n",
        "    seq.add(Activation('relu'))\n",
        "    seq.add(MaxPooling2D(pool_size=(2, 2)))  \n",
        "    seq.add(Dropout(.25))\n",
        "    \n",
        "    #convolutional layer 2\n",
        "    seq.add(Convolution2D(nb_filter[1], kernel_size, kernel_size, border_mode='valid', dim_ordering='th'))\n",
        "    seq.add(Activation('relu'))\n",
        "    seq.add(MaxPooling2D(pool_size=(2, 2), dim_ordering='th')) \n",
        "    seq.add(Dropout(.25))\n",
        "    \n",
        "    #convolutional layer 2\n",
        "    seq.add(Convolution2D(nb_filter[2], kernel_size, kernel_size, border_mode='valid', dim_ordering='th'))\n",
        "    seq.add(Activation('relu'))\n",
        "    seq.add(MaxPooling2D(pool_size=(2, 2), dim_ordering='th')) \n",
        "    seq.add(Dropout(.25))\n",
        "\n",
        "    #flatten \n",
        "    seq.add(Flatten())\n",
        "    seq.add(Dense(128, activation='relu'))\n",
        "    seq.add(Dropout(0.1))\n",
        "    seq.add(Dense(50, activation='relu'))\n",
        "    return seq"
      ],
      "execution_count": null,
      "outputs": []
    },
    {
      "cell_type": "code",
      "metadata": {
        "trusted": true,
        "id": "8yLi9GdZ6akO",
        "outputId": "f2c55f06-14cb-4f81-d666-4da9960ebf0e"
      },
      "source": [
        "input_dim = x_train.shape[2:]\n",
        "img_a = Input(shape=input_dim)\n",
        "img_b = Input(shape=input_dim)\n",
        "print('input_dim',input_dim)"
      ],
      "execution_count": null,
      "outputs": [
        {
          "output_type": "stream",
          "text": [
            "input_dim (3, 64, 64)\n"
          ],
          "name": "stdout"
        }
      ]
    },
    {
      "cell_type": "code",
      "metadata": {
        "trusted": true,
        "id": "slTOxPny6akO"
      },
      "source": [
        "base_network = build_base_network(input_dim)\n",
        "feat_vecs_a = base_network(img_a)\n",
        "feat_vecs_b = base_network(img_b)"
      ],
      "execution_count": null,
      "outputs": []
    },
    {
      "cell_type": "code",
      "metadata": {
        "trusted": true,
        "id": "R-WMY16m6akP"
      },
      "source": [
        "distance = Lambda(euclidean_distance, output_shape=eucl_dist_output_shape)([feat_vecs_a, feat_vecs_b])"
      ],
      "execution_count": null,
      "outputs": []
    },
    {
      "cell_type": "code",
      "metadata": {
        "trusted": true,
        "id": "JyZKQef86akP"
      },
      "source": [
        "epochs = 20\n",
        "rms = optimizers.Adam(lr=0.0001, beta_1=0.9, beta_2=0.999, epsilon=None, decay=0.0, amsgrad=False)#RMSprop()\n",
        "rms = RMSprop()\n",
        "\n",
        "earlyStopping = EarlyStopping(monitor='val_loss',\n",
        "                              min_delta=0,\n",
        "                              patience=3,\n",
        "                              verbose=1,\n",
        "                              restore_best_weights=True)\n",
        "callback_early_stop_reduceLROnPlateau=[earlyStopping]"
      ],
      "execution_count": null,
      "outputs": []
    },
    {
      "cell_type": "code",
      "metadata": {
        "trusted": true,
        "id": "BHnhhANk6akP",
        "outputId": "30735498-d5e3-4981-d54f-9dae442edfa1"
      },
      "source": [
        "model = Model(input=[img_a, img_b], output=distance)\n",
        "model.compile(loss=contrastive_loss, optimizer=rms,metrics=[accuracy])\n",
        "model.summary()"
      ],
      "execution_count": null,
      "outputs": [
        {
          "output_type": "stream",
          "text": [
            "__________________________________________________________________________________________________\n",
            "Layer (type)                    Output Shape         Param #     Connected to                     \n",
            "==================================================================================================\n",
            "input_1 (InputLayer)            (None, 3, 64, 64)    0                                            \n",
            "__________________________________________________________________________________________________\n",
            "input_2 (InputLayer)            (None, 3, 64, 64)    0                                            \n",
            "__________________________________________________________________________________________________\n",
            "sequential_1 (Sequential)       (None, 50)           186018      input_1[0][0]                    \n",
            "                                                                 input_2[0][0]                    \n",
            "__________________________________________________________________________________________________\n",
            "lambda_1 (Lambda)               (None, 1)            0           sequential_1[1][0]               \n",
            "                                                                 sequential_1[2][0]               \n",
            "==================================================================================================\n",
            "Total params: 186,018\n",
            "Trainable params: 186,018\n",
            "Non-trainable params: 0\n",
            "__________________________________________________________________________________________________\n"
          ],
          "name": "stdout"
        }
      ]
    },
    {
      "cell_type": "code",
      "metadata": {
        "scrolled": true,
        "trusted": true,
        "id": "kloDXuqo6akQ",
        "outputId": "b0bad458-c80b-4c67-d9c4-e2cbcabd8101"
      },
      "source": [
        "img_1 = x_train[:, 0]\n",
        "img2 = x_train[:, 1]\n",
        "img_1.shape\n",
        "history = model.fit([img_1, img2], y_train, validation_split=.20,\n",
        "      batch_size= 64, verbose=1, nb_epoch=100,callbacks=callback_early_stop_reduceLROnPlateau)\n",
        "\n",
        "# Option 1: Save Weights + Architecture\n",
        "model.save_weights('model_weights.h5')\n",
        "with open('model_architecture.json', 'w') as f:\n",
        "    f.write(model.to_json())\n",
        "print('saved')"
      ],
      "execution_count": null,
      "outputs": [
        {
          "output_type": "stream",
          "text": [
            "Train on 18740 samples, validate on 4686 samples\n",
            "Epoch 1/100\n",
            "18740/18740 [==============================] - 8s 418us/step - loss: 0.1543 - accuracy: 0.7753 - val_loss: 0.3151 - val_accuracy: 0.5055\n",
            "Epoch 2/100\n",
            "18740/18740 [==============================] - 5s 252us/step - loss: 0.0730 - accuracy: 0.9205 - val_loss: 0.2061 - val_accuracy: 0.6099\n",
            "Epoch 3/100\n",
            "18740/18740 [==============================] - 5s 259us/step - loss: 0.0533 - accuracy: 0.9499 - val_loss: 0.1177 - val_accuracy: 0.7945\n",
            "Epoch 4/100\n",
            "18740/18740 [==============================] - 5s 246us/step - loss: 0.0416 - accuracy: 0.9607 - val_loss: 0.0913 - val_accuracy: 0.8453\n",
            "Epoch 5/100\n",
            "18740/18740 [==============================] - 5s 260us/step - loss: 0.0390 - accuracy: 0.9616 - val_loss: 0.0826 - val_accuracy: 0.8722\n",
            "Epoch 6/100\n",
            "18740/18740 [==============================] - 5s 266us/step - loss: 0.0374 - accuracy: 0.9626 - val_loss: 0.0851 - val_accuracy: 0.8796\n",
            "Epoch 7/100\n",
            "18740/18740 [==============================] - 5s 246us/step - loss: 0.0337 - accuracy: 0.9698 - val_loss: 0.1227 - val_accuracy: 0.7949\n",
            "Epoch 8/100\n",
            "18740/18740 [==============================] - 5s 254us/step - loss: 0.0313 - accuracy: 0.9719 - val_loss: 0.0366 - val_accuracy: 0.9590\n",
            "Epoch 9/100\n",
            "18740/18740 [==============================] - 5s 251us/step - loss: 0.0288 - accuracy: 0.9701 - val_loss: 0.0124 - val_accuracy: 0.9880\n",
            "Epoch 10/100\n",
            "18740/18740 [==============================] - 5s 252us/step - loss: 0.1323 - accuracy: 0.8679 - val_loss: 0.4994 - val_accuracy: 0.5006\n",
            "Epoch 11/100\n",
            "18740/18740 [==============================] - 5s 251us/step - loss: 0.4996 - accuracy: 0.5004 - val_loss: 0.4994 - val_accuracy: 0.5006\n",
            "Epoch 12/100\n",
            "18740/18740 [==============================] - 5s 264us/step - loss: 0.4996 - accuracy: 0.5004 - val_loss: 0.4994 - val_accuracy: 0.5006\n",
            "Restoring model weights from the end of the best epoch\n",
            "Epoch 00012: early stopping\n",
            "saved\n"
          ],
          "name": "stdout"
        }
      ]
    },
    {
      "cell_type": "markdown",
      "metadata": {
        "id": "mfKpXRrn6akQ"
      },
      "source": [
        "Now, we make predictions with test data. Finally, we check our model accuracy."
      ]
    },
    {
      "cell_type": "markdown",
      "metadata": {
        "id": "OgG6kbnf6akQ"
      },
      "source": [
        "# Predictions"
      ]
    },
    {
      "cell_type": "code",
      "metadata": {
        "trusted": true,
        "id": "uM32glKQ6akR",
        "outputId": "0febbc9e-e4ce-4929-eeec-48abde0e0543"
      },
      "source": [
        "pred = model.predict([x_test[:, 0], x_test[:, 1]])\n",
        "\n",
        "print('Accuracy on test set: %0.2f%%' % (100 * compute_accuracy(pred, y_test)))"
      ],
      "execution_count": null,
      "outputs": [
        {
          "output_type": "stream",
          "text": [
            "Accuracy on test set: 99.70%\n"
          ],
          "name": "stdout"
        }
      ]
    },
    {
      "cell_type": "code",
      "metadata": {
        "trusted": true,
        "id": "nZDa3-ow6akR",
        "outputId": "b326ce5b-695e-480e-a2a1-1f74267df4bb"
      },
      "source": [
        "pred = model.predict([x_train[:, 0], x_train[:, 1]])\n",
        "\n",
        "print('* Accuracy on training set: %0.2f%%' % (100  * compute_accuracy(pred, y_train)))"
      ],
      "execution_count": null,
      "outputs": [
        {
          "output_type": "stream",
          "text": [
            "* Accuracy on training set: 99.72%\n"
          ],
          "name": "stdout"
        }
      ]
    },
    {
      "cell_type": "code",
      "metadata": {
        "trusted": true,
        "id": "iBh2OpUG6akR",
        "outputId": "e08fe06c-37e9-488d-fae4-1364f431501b"
      },
      "source": [
        "acc = history.history['accuracy']\n",
        "val_acc = history.history['val_accuracy']\n",
        "loss = history.history['loss']\n",
        "val_loss = history.history['val_loss']\n",
        "epochs = range(1, len(acc) + 1)\n",
        "#Train and validation accuracy\n",
        "plt.plot(epochs, acc, 'b', label='Training accurarcy')\n",
        "plt.plot(epochs, val_acc, 'r', label='Validation accurarcy')\n",
        "plt.title('Training and Validation accurarcy')\n",
        "plt.legend()\n",
        "\n",
        "plt.figure()\n",
        "#Train and validation loss\n",
        "plt.plot(epochs, loss, 'b', label='Training loss')\n",
        "plt.plot(epochs, val_loss, 'r', label='Validation loss')\n",
        "plt.title('Training and Validation loss')\n",
        "plt.legend()\n",
        "plt.show()"
      ],
      "execution_count": null,
      "outputs": [
        {
          "output_type": "display_data",
          "data": {
            "text/plain": [
              "<Figure size 432x288 with 1 Axes>"
            ],
            "image/png": "[encoded data removed]"
          },
          "metadata": {
            "tags": [],
            "needs_background": "light"
          }
        },
        {
          "output_type": "display_data",
          "data": {
            "text/plain": [
              "<Figure size 432x288 with 1 Axes>"
            ],
            "image/png": "[encoded data removed]"
          },
          "metadata": {
            "tags": [],
            "needs_background": "light"
          }
        }
      ]
    }
  ]
}